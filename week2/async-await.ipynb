{
 "cells": [
  {
   "cell_type": "markdown",
   "metadata": {},
   "source": [
    "# async/await"
   ]
  },
  {
   "cell_type": "markdown",
   "metadata": {},
   "source": [
    "## Regular (synchronous) function "
   ]
  },
  {
   "cell_type": "code",
   "execution_count": 1,
   "metadata": {},
   "outputs": [
    {
     "name": "stdout",
     "output_type": "stream",
     "text": [
      "42\n"
     ]
    }
   ],
   "source": [
    "{\n",
    "  function foo() {\n",
    "    return 42;\n",
    "  }\n",
    "\n",
    "  const result = foo();\n",
    "  console.log(result);\n",
    "}"
   ]
  },
  {
   "cell_type": "markdown",
   "metadata": {},
   "source": [
    "## Asynchronous function\n",
    "\n",
    "A function marked with the `async` keyword."
   ]
  },
  {
   "cell_type": "code",
   "execution_count": 3,
   "metadata": {},
   "outputs": [
    {
     "name": "stdout",
     "output_type": "stream",
     "text": [
      "Promise { undefined }\n"
     ]
    }
   ],
   "source": [
    "{\n",
    "  async function foo() {\n",
    "    return 42;\n",
    "  }\n",
    "\n",
    "  const result2 = foo();\n",
    "  console.log(result2);\n",
    "}"
   ]
  },
  {
   "cell_type": "markdown",
   "metadata": {},
   "source": [
    "## Using `await`\n",
    "\n",
    "The `await` keyword causes the code to \"wait\" for a promise to become resolved _without blocking the code execution_."
   ]
  },
  {
   "cell_type": "code",
   "execution_count": 4,
   "metadata": {},
   "outputs": [
    {
     "name": "stdout",
     "output_type": "stream",
     "text": [
      "42\n"
     ]
    }
   ],
   "source": [
    "{\n",
    "  async function foo() {\n",
    "    return 42;\n",
    "  }\n",
    "\n",
    "  const result3 = await foo();\n",
    "  console.log(result3);\n",
    "}"
   ]
  },
  {
   "cell_type": "markdown",
   "metadata": {},
   "source": [
    "Inside a function you can only use `await` if the calling function itself is marked with `async`."
   ]
  },
  {
   "cell_type": "code",
   "execution_count": 7,
   "metadata": {},
   "outputs": [
    {
     "name": "stderr",
     "output_type": "stream",
     "text": [
      "7:20 - 'await' expressions are only allowed within async functions and at the top levels of modules.\n"
     ]
    }
   ],
   "source": [
    "{\n",
    "  async function foo() {\n",
    "    return 42;\n",
    "  }\n",
    "  \n",
    "  function bar() {\n",
    "    const result = await foo();\n",
    "    console.log(result);\n",
    "  }\n",
    "\n",
    "  bar();\n",
    "}"
   ]
  },
  {
   "cell_type": "markdown",
   "metadata": {},
   "source": [
    "Because the calling function is now marked `async` it returns a promise itself."
   ]
  },
  {
   "cell_type": "code",
   "execution_count": 8,
   "metadata": {},
   "outputs": [
    {
     "name": "stdout",
     "output_type": "stream",
     "text": [
      "42\n"
     ]
    }
   ],
   "source": [
    "{\n",
    "  async function foo() {\n",
    "    return 42;\n",
    "  }\n",
    "\n",
    "  async function bar() { // added async keyword\n",
    "    const result = await foo();\n",
    "    console.log(result);\n",
    "  }\n",
    "\n",
    "  bar();\n",
    "}"
   ]
  },
  {
   "cell_type": "markdown",
   "metadata": {},
   "source": [
    "## Error handling\n",
    " \n",
    "Throwing an error inside an async function produces a rejected promise."
   ]
  },
  {
   "cell_type": "code",
   "execution_count": 9,
   "metadata": {},
   "outputs": [
    {
     "name": "stderr",
     "output_type": "stream",
     "text": [
      "UnhandledPromiseRejection: Error: Oops, something went wrong...\n",
      "    at foo (evalmachine.<anonymous>:4:15)\n",
      "    at bar (evalmachine.<anonymous>:7:30)\n",
      "    at evalmachine.<anonymous>:10:5\n",
      "    at evalmachine.<anonymous>:13:3\n",
      "    at sigintHandlersWrap (node:vm:279:12)\n",
      "    at Script.runInThisContext (node:vm:134:14)\n",
      "    at Object.runInThisContext (node:vm:316:38)\n",
      "    at Object.execute (/usr/local/lib/node_modules/tslab/dist/executor.js:160:38)\n",
      "    at JupyterHandlerImpl.handleExecuteImpl (/usr/local/lib/node_modules/tslab/dist/jupyter.js:223:38)\n",
      "    at /usr/local/lib/node_modules/tslab/dist/jupyter.js:181:57\n"
     ]
    }
   ],
   "source": [
    "{\n",
    "  async function foo() {\n",
    "    throw new Error('Oops, something went wrong...')\n",
    "  }\n",
    "\n",
    "  async function bar() {\n",
    "    const result = await foo();\n",
    "    console.log('result', result);\n",
    "  }\n",
    "\n",
    "  bar();\n",
    "}"
   ]
  },
  {
   "cell_type": "markdown",
   "metadata": {},
   "source": [
    "## Error handling: `try/catch`\n",
    "\n",
    "Errors that occur inside a `try` block can be caught in a `catch` block."
   ]
  },
  {
   "cell_type": "code",
   "execution_count": 10,
   "metadata": {},
   "outputs": [
    {
     "name": "stdout",
     "output_type": "stream",
     "text": [
      "Error: Oops, something went wrong...\n"
     ]
    }
   ],
   "source": [
    "{\n",
    "  async function foo() {\n",
    "    throw new Error('Oops, something went wrong...');\n",
    "  }\n",
    "\n",
    " async function bar() {\n",
    "    try {\n",
    "      const result = await foo();\n",
    "      console.log(result); \n",
    "    } catch(err) {\n",
    "      console.log(`Error: ${err.message}`);\n",
    "    }\n",
    "  }\n",
    "\n",
    "  bar();\n",
    "}"
   ]
  },
  {
   "cell_type": "markdown",
   "metadata": {},
   "source": [
    "A thrown error inside a `Promise()` constructor also produces a rejected promise."
   ]
  },
  {
   "cell_type": "code",
   "execution_count": 15,
   "metadata": {},
   "outputs": [
    {
     "name": "stdout",
     "output_type": "stream",
     "text": [
      "Error: bla bla\n"
     ]
    }
   ],
   "source": [
    "{\n",
    "  function someLibraryFunctionThatMayThrowAnError() {\n",
    "    throw new Error('bla bla');\n",
    "  }\n",
    "\n",
    "  function foo() {\n",
    "    return new Promise((resolve, reject) => {\n",
    "      const result = someLibraryFunctionThatMayThrowAnError();\n",
    "      resolve(result);\n",
    "    });\n",
    "  }\n",
    "\n",
    "  async function bar() {\n",
    "    try {\n",
    "      const result = await foo();\n",
    "      console.log('result', result); \n",
    "    } catch(err) {\n",
    "      console.log(`Error: ${err.message}`);\n",
    "    }\n",
    "  }\n",
    "\n",
    "  bar();\n",
    "}"
   ]
  }
 ],
 "metadata": {
  "kernelspec": {
   "display_name": "JavaScript",
   "language": "javascript",
   "name": "jslab"
  },
  "language_info": {
   "file_extension": ".js",
   "mimetype": "text/javascript",
   "name": "javascript",
   "version": ""
  },
  "orig_nbformat": 4
 },
 "nbformat": 4,
 "nbformat_minor": 2
}
