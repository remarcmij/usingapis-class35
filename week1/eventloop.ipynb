{
 "cells": [
  {
   "cell_type": "markdown",
   "metadata": {},
   "source": [
    "# Event Loop\n",
    "\n",
    "## Experiment 1: Synchronous code with async timeouts\n",
    "\n",
    "- What will be logged to the console and in what order?\n",
    "- How many tasks does the JavaScript engine need to run (to completion)?"
   ]
  },
  {
   "cell_type": "code",
   "execution_count": null,
   "metadata": {
    "notebookRunGroups": {
     "groupValue": ""
    }
   },
   "outputs": [],
   "source": [
    "{\n",
    "  console.log('starting');\n",
    "\n",
    "  setTimeout(() => {\n",
    "    console.log('timeout 1');\n",
    "  }, 0);\n",
    "\n",
    "  setTimeout(() => {\n",
    "    console.log('timeout 2');\n",
    "  }, 0);\n",
    "\n",
    "\n",
    "  console.log('ending');\n",
    "}"
   ]
  },
  {
   "cell_type": "markdown",
   "metadata": {},
   "source": [
    "<details>\n",
    "<summary>Discussion</summary>\n",
    "\n",
    "### This code runs in three separate runs of the event loop:\n",
    "\n",
    "#### First run:\n",
    "\n",
    "```js\n",
    "console.log('starting');\n",
    "setTimeout(..., 0); // Only sets up the timeout, does not run the code inside\n",
    "setTimeout(..., 0); // Ditto\n",
    "console.log('ending');\n",
    "```\n",
    "\n",
    "#### Second run (timeout 1 event):\n",
    "\n",
    "```js\n",
    "console.log('timeout 1');\n",
    "```\n",
    "\n",
    "#### Third run (timeout 2 event):\n",
    "\n",
    "```js\n",
    "console.log('timeout 2');\n",
    "```\n",
    "</details>\n",
    "\n"
   ]
  },
  {
   "cell_type": "markdown",
   "metadata": {},
   "source": [
    "## Experiment 2: Adding a resolved promise\n",
    "\n",
    "- What will be logged to the console and in what order?\n",
    "- Explanation?"
   ]
  },
  {
   "cell_type": "code",
   "execution_count": null,
   "metadata": {},
   "outputs": [],
   "source": [
    "{\n",
    "  console.log('starting');\n",
    "\n",
    "  console.log('setting up timer 1')\n",
    "  setTimeout(() => {\n",
    "    console.log('timeout 1');\n",
    "  }, 0);\n",
    "\n",
    "  console.log('setting up timer 2')\n",
    "  setTimeout(() => {\n",
    "    console.log('timeout 2');\n",
    "  }, 0);\n",
    "\n",
    "  // Create a new promise and resolve it immediately\n",
    "  new Promise((resolve, reject) => {\n",
    "    resolve();\n",
    "  }).then(() => {\n",
    "      console.log('then 1');\n",
    "      console.log('setting up timer 3')\n",
    "      setTimeout(() => {\n",
    "        console.log('timeout 3');\n",
    "      }, 0);\n",
    "    })\n",
    "    .catch(() => {\n",
    "      console.log('catch 1');\n",
    "    });\n",
    "\n",
    "  console.log('ending');\n",
    "}"
   ]
  },
  {
   "cell_type": "markdown",
   "metadata": {},
   "source": [
    "## Experiment 3: Extending the promise chain\n",
    "\n",
    "- What will be logged to the console and in what order?\n",
    "- Explanation?\n"
   ]
  },
  {
   "cell_type": "code",
   "execution_count": null,
   "metadata": {},
   "outputs": [],
   "source": [
    "{\n",
    "  console.log('starting');\n",
    "\n",
    "  setTimeout(() => {\n",
    "    console.log('timeout 1');\n",
    "  }, 0);\n",
    "\n",
    "  setTimeout(() => {\n",
    "    console.log('timeout 2');\n",
    "  }, 0);\n",
    "\n",
    "  // Create a resolved promise\n",
    "  Promise.resolve()\n",
    "    .then(() => {\n",
    "      console.log('then 1');\n",
    "    })\n",
    "    .then(() => {\n",
    "      console.log('then 2');\n",
    "    })\n",
    "    .catch(() => {\n",
    "      console.log('catch 1');\n",
    "    })\n",
    "    .catch(() => {\n",
    "      console.log('catch 2');\n",
    "    })\n",
    "    .then(() => {\n",
    "      console.log('then 3');\n",
    "    })\n",
    "    .finally(() => {\n",
    "      console.log('finally');\n",
    "    });\n",
    "\n",
    "  console.log('ending');\n",
    "}"
   ]
  },
  {
   "cell_type": "markdown",
   "metadata": {},
   "source": [
    "## As previous example, but now for a rejected promise.\n",
    "\n",
    "- What will be logged to the console and in what order?\n",
    "- Explanation?"
   ]
  },
  {
   "cell_type": "code",
   "execution_count": null,
   "metadata": {},
   "outputs": [],
   "source": [
    "{\n",
    "  console.log('starting');\n",
    "\n",
    "  setTimeout(() => {\n",
    "    console.log('timeout 1');\n",
    "  }, 0);\n",
    "\n",
    "  setTimeout(() => {\n",
    "    console.log('timeout 2');\n",
    "  }, 0);\n",
    "\n",
    "  // Create a rejected promise\n",
    "  Promise.reject()\n",
    "    .then(() => {\n",
    "      console.log('then 1');\n",
    "    })\n",
    "    .then(() => {\n",
    "      console.log('then 2');\n",
    "    })\n",
    "    .catch(() => {\n",
    "      console.log('catch 1');\n",
    "    })\n",
    "    .catch(() => {\n",
    "      console.log('catch 2');\n",
    "    })\n",
    "    .then(() => {\n",
    "      console.log('then 3');\n",
    "    })\n",
    "    .finally(() => {\n",
    "      console.log('finally');\n",
    "    });\n",
    "\n",
    "  console.log('ending');\n",
    "}"
   ]
  }
 ],
 "metadata": {
  "kernelspec": {
   "display_name": "JavaScript",
   "language": "javascript",
   "name": "jslab"
  },
  "language_info": {
   "file_extension": ".js",
   "mimetype": "application/javascript",
   "name": "javascript",
   "version": "18.19.0"
  },
  "vscode": {
   "interpreter": {
    "hash": "e3a270066623c137c1057195b570b4b37846f0c495b388bd0a0d691db4376c56"
   }
  }
 },
 "nbformat": 4,
 "nbformat_minor": 4
}
