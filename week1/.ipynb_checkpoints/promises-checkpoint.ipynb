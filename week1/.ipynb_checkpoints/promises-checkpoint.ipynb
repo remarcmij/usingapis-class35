{
 "cells": [
  {
   "cell_type": "markdown",
   "metadata": {},
   "source": [
    "# Promises\n",
    "\n",
    "> A placeholder for a value that will be computed in the future.\n",
    ">\n",
    "> A Promise is an object that represents the eventual result of an asynchronous operation.\n",
    "\n",
    "## Experiment 1: Create a pending promise (resolved nor rejected)\n",
    "\n",
    "- What it the JavaScript type of a promise?"
   ]
  },
  {
   "cell_type": "code",
   "execution_count": 3,
   "metadata": {},
   "outputs": [
    {
     "name": "stdout",
     "output_type": "stream",
     "text": [
      "1 object\n",
      "2 Promise { <pending> }\n"
     ]
    }
   ],
   "source": [
    "{\n",
    "  const p = new Promise((resolve, reject) => {\n",
    "    // Do nothing\n",
    "  });\n",
    "\n",
    "  console.log(1, typeof p);\n",
    "  console.log(2, p)\n",
    "}"
   ]
  },
  {
   "cell_type": "markdown",
   "metadata": {},
   "source": [
    "## Experiment 2: Creating and consuming a resolved promise\n",
    "\n",
    "- What will be printed to the console and in what order?"
   ]
  },
  {
   "cell_type": "code",
   "execution_count": null,
   "metadata": {},
   "outputs": [
    {
     "name": "stdout",
     "output_type": "stream",
     "text": [
      "2 42\n",
      "3 Promise { 42 }\n"
     ]
    }
   ],
   "source": [
    "{\n",
    "  const p = new Promise((resolve, reject) => {\n",
    "    setTimeout(() => {\n",
    "      resolve(42);\n",
    "    }, 0);\n",
    "  })\n",
    "\n",
    "  p.then((result) => {\n",
    "    console.log(2, result);\n",
    "    console.log(3, p);\n",
    "  }).catch((err) => {\n",
    "    console.log(4, err.message);\n",
    "  });\n",
    "}\n"
   ]
  },
  {
   "cell_type": "markdown",
   "metadata": {},
   "source": [
    "## Experiment 3: Creating and consuming a rejected promise\n",
    "\n",
    "- What will be printed to the console and in what order?"
   ]
  },
  {
   "cell_type": "code",
   "execution_count": 11,
   "metadata": {},
   "outputs": [
    {
     "name": "stdout",
     "output_type": "stream",
     "text": [
      "4 Promise {\n",
      "  <rejected> Error: Something went wrong...\n",
      "      at Timeout._onTimeout (evalmachine.<anonymous>:5:20)\n",
      "      at listOnTimeout (node:internal/timers:559:17)\n",
      "      at processTimers (node:internal/timers:502:7)\n",
      "}\n",
      "5 Something went wrong...\n"
     ]
    }
   ],
   "source": [
    "{\n",
    "  const p = new Promise((resolve, reject) => {\n",
    "    setTimeout(() => {\n",
    "      reject(new Error('Something went wrong...'));\n",
    "    }, 1000);\n",
    "  })\n",
    "\n",
    "  p.then((result) => {\n",
    "    console.log(2, result);\n",
    "    console.log(3, p);\n",
    "  }).catch((err) => {\n",
    "    console.log(4, p);\n",
    "    console.log(5, err.message);\n",
    "  });\n",
    "}"
   ]
  }
 ],
 "metadata": {
  "kernelspec": {
   "display_name": "JavaScript",
   "language": "javascript",
   "name": "jslab"
  },
  "language_info": {
   "file_extension": ".js",
   "mimetype": "text/javascript",
   "name": "javascript",
   "version": ""
  },
  "orig_nbformat": 4
 },
 "nbformat": 4,
 "nbformat_minor": 2
}
