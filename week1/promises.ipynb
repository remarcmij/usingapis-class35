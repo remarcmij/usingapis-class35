{
 "cells": [
  {
   "cell_type": "markdown",
   "metadata": {},
   "source": [
    "# Promises\n",
    "\n",
    "> A placeholder for a value that will be computed in the future.\n",
    ">\n",
    "> A Promise is an object that represents the eventual result of an asynchronous operation.\n",
    "\n",
    "## Experiment 1: Create a pending promise (resolved nor rejected)\n",
    "\n",
    "- What it the JavaScript type of a promise?"
   ]
  },
  {
   "cell_type": "code",
   "execution_count": 1,
   "metadata": {},
   "outputs": [
    {
     "name": "stdout",
     "output_type": "stream",
     "text": [
      "1 object\n",
      "2 Promise { <pending> }\n"
     ]
    }
   ],
   "source": [
    "const p1 = new Promise((resolve, reject) => {\n",
    "  // Do nothing\n",
    "});\n",
    "\n",
    "console.log(1, typeof p1);\n",
    "console.log(2, p1)"
   ]
  },
  {
   "cell_type": "markdown",
   "metadata": {},
   "source": [
    "## Experiment 2: Creating and consuming a resolved promise\n",
    "\n",
    "- What will be printed to the console and in what order?"
   ]
  },
  {
   "cell_type": "code",
   "execution_count": null,
   "metadata": {},
   "outputs": [
    {
     "name": "stdout",
     "output_type": "stream",
     "text": [
      "1 Promise { <pending> }\n",
      "2 42\n",
      "3 Promise { 42 }\n"
     ]
    }
   ],
   "source": [
    "const p2 = new Promise((resolve, reject) => {\n",
    "  setTimeout(() => {\n",
    "    resolve(42);\n",
    "  }, 0);\n",
    "})\n",
    "\n",
    "console.log(1, p2)\n",
    "\n",
    "void p2.then((result) => {\n",
    "  console.log(2, result);\n",
    "  console.log(3, p2);\n",
    "}).catch((err) => {\n",
    "  console.log(4, err.message);\n",
    "});\n"
   ]
  },
  {
   "cell_type": "markdown",
   "metadata": {},
   "source": [
    "## Experiment 3: Creating and consuming a rejected promise\n",
    "\n",
    "- What will be printed to the console and in what order?"
   ]
  },
  {
   "cell_type": "code",
   "execution_count": 3,
   "metadata": {},
   "outputs": [
    {
     "name": "stdout",
     "output_type": "stream",
     "text": [
      "1 Promise { <pending> }\n",
      "4 Promise {\n",
      "  <rejected> Error: Something went wrong...\n",
      "      at Timeout._onTimeout (evalmachine.<anonymous>:5:16)\n",
      "      at listOnTimeout (node:internal/timers:564:17)\n",
      "      at process.processTimers (node:internal/timers:507:7)\n",
      "}\n",
      "5 Something went wrong...\n"
     ]
    }
   ],
   "source": [
    "const p3 = new Promise((resolve, reject) => {\n",
    "  setTimeout(() => {\n",
    "    reject(new Error('Something went wrong...'));\n",
    "  }, 1000);\n",
    "})\n",
    "\n",
    "console.log(1, p3);\n",
    "\n",
    "void p3.then((result) => {\n",
    "  console.log(2, result);\n",
    "  console.log(3, p3);\n",
    "}).catch((err) => {\n",
    "  console.log(4, p3);\n",
    "  console.log(5, err.message);\n",
    "});"
   ]
  }
 ],
 "metadata": {
  "kernelspec": {
   "display_name": "JavaScript",
   "language": "javascript",
   "name": "jslab"
  },
  "language_info": {
   "file_extension": ".js",
   "mimetype": "text/javascript",
   "name": "javascript",
   "version": ""
  },
  "orig_nbformat": 4
 },
 "nbformat": 4,
 "nbformat_minor": 2
}
