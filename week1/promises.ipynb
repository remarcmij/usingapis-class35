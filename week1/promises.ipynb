{
 "cells": [
  {
   "cell_type": "markdown",
   "metadata": {},
   "source": [
    "# Promises\n",
    "\n",
    "> A placeholder for a value that will be computed in the future.\n",
    ">\n",
    "> A Promise is an object that represents the eventual result of an asynchronous operation.\n",
    "\n",
    "## Experiment 1: Create a pending promise (resolved nor rejected)\n",
    "\n",
    "- What will be logged to the console?"
   ]
  },
  {
   "cell_type": "code",
   "execution_count": 1,
   "metadata": {},
   "outputs": [
    {
     "name": "stdout",
     "output_type": "stream",
     "text": [
      "1 object\n",
      "2 Promise { <pending> }\n"
     ]
    }
   ],
   "source": [
    "{\n",
    "  const p = new Promise((resolve, reject) => {\n",
    "    // Do nothing\n",
    "  });\n",
    "\n",
    "  console.log(1, typeof p);\n",
    "  console.log(2, p)\n",
    "}"
   ]
  },
  {
   "cell_type": "markdown",
   "metadata": {},
   "source": [
    "## Experiment 2: Creating and consuming a resolved promise\n",
    "\n",
    "- What will be logged to the console and in what order?"
   ]
  },
  {
   "cell_type": "code",
   "execution_count": 2,
   "metadata": {},
   "outputs": [
    {
     "name": "stdout",
     "output_type": "stream",
     "text": [
      "2 42\n",
      "3 Promise { 42 }\n"
     ]
    }
   ],
   "source": [
    "{\n",
    "  const p = new Promise((resolve, reject) => {\n",
    "    resolve(42);\n",
    "  });\n",
    "\n",
    "  p.then((result) => {\n",
    "    console.log(2, result);\n",
    "    console.log(3, p);\n",
    "  }).catch((err) => {\n",
    "    console.log(4, err.message);\n",
    "  });\n",
    "}\n"
   ]
  },
  {
   "cell_type": "markdown",
   "metadata": {},
   "source": [
    "## Experiment 3: Creating and consuming a rejected promise\n",
    "\n",
    "- What will be logged to the console and in what order?"
   ]
  },
  {
   "cell_type": "code",
   "execution_count": 3,
   "metadata": {},
   "outputs": [
    {
     "name": "stdout",
     "output_type": "stream",
     "text": [
      "4 Promise {\n",
      "  <rejected> Error: Something went wrong...\n",
      "      at evalmachine.<anonymous>:4:16\n",
      "      at new Promise (<anonymous>)\n",
      "      at evalmachine.<anonymous>:3:15\n",
      "      at evalmachine.<anonymous>:15:3\n",
      "      at sigintHandlersWrap (node:vm:279:12)\n",
      "      at Script.runInThisContext (node:vm:134:14)\n",
      "      at Object.runInThisContext (node:vm:316:38)\n",
      "      at Object.execute (/opt/homebrew/lib/node_modules/tslab/dist/executor.js:162:38)\n",
      "      at JupyterHandlerImpl.handleExecuteImpl (/opt/homebrew/lib/node_modules/tslab/dist/jupyter.js:219:38)\n",
      "      at /opt/homebrew/lib/node_modules/tslab/dist/jupyter.js:177:57\n",
      "}\n",
      "5 Something went wrong...\n"
     ]
    }
   ],
   "source": [
    "{\n",
    "  const p = new Promise((resolve, reject) => {\n",
    "    reject(new Error('Something went wrong...'));\n",
    "  });\n",
    "\n",
    "  p.then((result) => {\n",
    "    console.log(2, result);\n",
    "    console.log(3, p);\n",
    "  }).catch((err) => {\n",
    "    console.log(4, p);\n",
    "    console.log(5, err.message);\n",
    "  });\n",
    "}"
   ]
  },
  {
   "cell_type": "markdown",
   "metadata": {},
   "source": [
    "## Experiment 4: Resolved Promise Chain\n",
    "\n",
    "- What will be logged to the console and in what order?"
   ]
  },
  {
   "cell_type": "code",
   "execution_count": 9,
   "metadata": {},
   "outputs": [
    {
     "name": "stdout",
     "output_type": "stream",
     "text": [
      "starting\n",
      "ending\n",
      "then 1\n",
      "then 2\n",
      "then 3\n",
      "finally\n",
      "timeout 1\n",
      "timeout 2\n"
     ]
    }
   ],
   "source": [
    "{\n",
    "  console.log('starting');\n",
    "\n",
    "  setTimeout(() => {\n",
    "    console.log('timeout 1');\n",
    "  }, 0);\n",
    "\n",
    "  setTimeout(() => {\n",
    "    console.log('timeout 2');\n",
    "  }, 0);\n",
    "\n",
    "  // Create a resolved promise\n",
    "  Promise.resolve()\n",
    "    .then(() => {\n",
    "      console.log('then 1');\n",
    "    })\n",
    "    .then(() => {\n",
    "      console.log('then 2');\n",
    "    })\n",
    "    .catch(() => {\n",
    "      console.log('catch 1');\n",
    "    })\n",
    "    .catch(() => {\n",
    "      console.log('catch 2');\n",
    "    })\n",
    "    .then(() => {\n",
    "      console.log('then 3');\n",
    "    })\n",
    "    .finally(() => {\n",
    "      console.log('finally');\n",
    "    });\n",
    "\n",
    "  console.log('ending');\n",
    "}"
   ]
  },
  {
   "cell_type": "markdown",
   "metadata": {},
   "source": [
    "## Rejected Promise Chain\n",
    "\n",
    "- What will be logged to the console and in what order?"
   ]
  },
  {
   "cell_type": "code",
   "execution_count": null,
   "metadata": {},
   "outputs": [
    {
     "name": "stdout",
     "output_type": "stream",
     "text": [
      "starting\n",
      "ending\n",
      "catch 3\n"
     ]
    },
    {
     "name": "stdout",
     "output_type": "stream",
     "text": [
      "finally\n"
     ]
    },
    {
     "name": "stderr",
     "output_type": "stream",
     "text": [
      "UnhandledPromiseRejection: undefined\n"
     ]
    },
    {
     "name": "stdout",
     "output_type": "stream",
     "text": [
      "timeout 1\n",
      "timeout 2\n"
     ]
    }
   ],
   "source": [
    "{\n",
    "  console.log('starting');\n",
    "\n",
    "  setTimeout(() => {\n",
    "    console.log('timeout 1');\n",
    "  }, 0);\n",
    "\n",
    "  setTimeout(() => {\n",
    "    console.log('timeout 2');\n",
    "  }, 0);\n",
    "\n",
    "  // Create a rejected promise\n",
    "  Promise.reject()\n",
    "    .then(() => {\n",
    "      console.log('then 1');\n",
    "    })\n",
    "    .then(() => {\n",
    "      console.log('then 2');\n",
    "      return 100;\n",
    "    })\n",
    "    .then(() => {\n",
    "      console.log('then 3');\n",
    "    })\n",
    "    .catch((err) => {\n",
    "      console.log('catch 3');\n",
    "    })\n",
    "    .then(() => {\n",
    "      console.log('then 4');\n",
    "    })\n",
    "    .finally(() => {\n",
    "      console.log('finally');\n",
    "    });\n",
    "\n",
    "  console.log('ending');\n",
    "}"
   ]
  }
 ],
 "metadata": {
  "kernelspec": {
   "display_name": "JavaScript",
   "language": "javascript",
   "name": "jslab"
  },
  "language_info": {
   "file_extension": ".js",
   "mimetype": "text/javascript",
   "name": "javascript",
   "version": ""
  },
  "orig_nbformat": 4
 },
 "nbformat": 4,
 "nbformat_minor": 2
}
