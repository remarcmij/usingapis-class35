{
 "cells": [
  {
   "cell_type": "markdown",
   "metadata": {},
   "source": [
    "# Promises\n",
    "\n",
    "## Experiment 1: Create a pending promise (resolved nor rejected)\n",
    "\n",
    "- What it the JavaScript type of a promise?"
   ]
  },
  {
   "cell_type": "code",
   "execution_count": null,
   "metadata": {},
   "outputs": [],
   "source": [
    "const p1 = new Promise((resolve, reject) => {\n",
    "  // Do nothing\n",
    "});\n",
    "\n",
    "console.log(1, typeof p1);\n",
    "console.log(2, p1)"
   ]
  },
  {
   "cell_type": "markdown",
   "metadata": {},
   "source": [
    "## Experiment 2: Creating and consuming a resolved promise\n",
    "\n",
    "- What will be printed to the console and in what order?"
   ]
  },
  {
   "cell_type": "code",
   "execution_count": null,
   "metadata": {},
   "outputs": [],
   "source": [
    "const p2 = new Promise((resolve, reject) => {\n",
    "  setTimeout(() => {\n",
    "    resolve(42);\n",
    "  }, 0);\n",
    "})\n",
    "\n",
    "console.log(1, p2)\n",
    "\n",
    "p2.then((result) => {\n",
    "  console.log(2, result);\n",
    "  console.log(3, p2);\n",
    "}).catch((err) => {\n",
    "  console.log(4, err.message);\n",
    "});\n",
    "\n",
    "// console.log(5, p3);"
   ]
  },
  {
   "cell_type": "markdown",
   "metadata": {},
   "source": [
    "## Experiment 3: Creating and consuming a rejected promise\n",
    "\n",
    "- What will be printed to the console and in what order?"
   ]
  },
  {
   "cell_type": "code",
   "execution_count": null,
   "metadata": {},
   "outputs": [],
   "source": [
    "const p3 = new Promise((resolve, reject) => {\n",
    "  setTimeout(() => {\n",
    "    reject(new Error('Something went wrong...'));\n",
    "  }, 1000);\n",
    "})\n",
    "\n",
    "console.log(1, p3);\n",
    "\n",
    "void p3.then((result) => {\n",
    "  console.log(2, result);\n",
    "  console.log(3, p3);\n",
    "}).catch((err) => {\n",
    "  console.log(4, p3);\n",
    "  console.log(5, err.message);\n",
    "});"
   ]
  }
 ],
 "metadata": {
  "kernelspec": {
   "display_name": "JavaScript",
   "language": "javascript",
   "name": "jslab"
  },
  "language_info": {
   "file_extension": ".js",
   "mimetype": "text/javascript",
   "name": "javascript",
   "version": ""
  },
  "orig_nbformat": 4
 },
 "nbformat": 4,
 "nbformat_minor": 2
}
