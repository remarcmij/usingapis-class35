{
 "cells": [
  {
   "cell_type": "markdown",
   "metadata": {},
   "source": [
    "# Promises\n",
    "\n",
    "> A placeholder for a value that will be computed in the future.\n",
    ">\n",
    "> A Promise is an object that represents the eventual result of an asynchronous operation.\n",
    "\n",
    "## Experiment 1: Create a pending promise (resolved nor rejected)\n",
    "\n",
    "- What will be logged to the console?"
   ]
  },
  {
   "cell_type": "code",
   "execution_count": null,
   "metadata": {},
   "outputs": [],
   "source": [
    "{\n",
    "  const p = new Promise((resolve, reject) => {\n",
    "    // Do nothing\n",
    "  });\n",
    "\n",
    "  console.log(1, typeof p);\n",
    "  console.log(2, p)\n",
    "}"
   ]
  },
  {
   "cell_type": "markdown",
   "metadata": {},
   "source": [
    "## Experiment 2: Creating and consuming a resolved promise\n",
    "\n",
    "- What will be logged to the console and in what order?"
   ]
  },
  {
   "cell_type": "code",
   "execution_count": null,
   "metadata": {},
   "outputs": [],
   "source": [
    "{\n",
    "  const p = new Promise((resolve, reject) => {\n",
    "    resolve(42);\n",
    "  });\n",
    "\n",
    "  p.then((result) => {\n",
    "    console.log(2, result);\n",
    "    console.log(3, p);\n",
    "  }).catch((err) => {\n",
    "    console.log(4, err.message);\n",
    "  });\n",
    "}\n"
   ]
  },
  {
   "cell_type": "markdown",
   "metadata": {},
   "source": [
    "## Experiment 3: Creating and consuming a rejected promise\n",
    "\n",
    "- What will be logged to the console and in what order?"
   ]
  },
  {
   "cell_type": "code",
   "execution_count": null,
   "metadata": {},
   "outputs": [],
   "source": [
    "{\n",
    "  const p = new Promise((resolve, reject) => {\n",
    "    reject(new Error('Something went wrong...'));\n",
    "  });\n",
    "\n",
    "  p.then((result) => {\n",
    "    console.log(2, result);\n",
    "    console.log(3, p);\n",
    "  }).catch((err) => {\n",
    "    console.log(4, p);\n",
    "    console.log(5, err.message);\n",
    "  });\n",
    "}"
   ]
  },
  {
   "cell_type": "markdown",
   "metadata": {},
   "source": [
    "## Experiment 4: Resolved Promise Chain\n",
    "\n",
    "- What will be logged to the console and in what order?"
   ]
  },
  {
   "cell_type": "code",
   "execution_count": null,
   "metadata": {},
   "outputs": [],
   "source": [
    "{\n",
    "  console.log('starting');\n",
    "\n",
    "  setTimeout(() => {\n",
    "    console.log('timeout 1');\n",
    "  }, 0);\n",
    "\n",
    "  setTimeout(() => {\n",
    "    console.log('timeout 2');\n",
    "  }, 0);\n",
    "\n",
    "  // Create a resolved promise\n",
    "  Promise.resolve()\n",
    "    .then(() => {\n",
    "      console.log('then 1');\n",
    "    })\n",
    "    .then(() => {\n",
    "      console.log('then 2');\n",
    "    })\n",
    "    .catch(() => {\n",
    "      console.log('catch 1');\n",
    "    })\n",
    "    .catch(() => {\n",
    "      console.log('catch 2');\n",
    "    })\n",
    "    .then(() => {\n",
    "      console.log('then 3');\n",
    "    })\n",
    "    .finally(() => {\n",
    "      console.log('finally');\n",
    "    });\n",
    "\n",
    "  console.log('ending');\n",
    "}"
   ]
  },
  {
   "cell_type": "markdown",
   "metadata": {},
   "source": [
    "## Rejected Promise Chain\n",
    "\n",
    "- What will be logged to the console and in what order?"
   ]
  },
  {
   "cell_type": "code",
   "execution_count": null,
   "metadata": {},
   "outputs": [],
   "source": [
    "{\n",
    "  console.log('starting');\n",
    "\n",
    "  setTimeout(() => {\n",
    "    console.log('timeout 1');\n",
    "  }, 0);\n",
    "\n",
    "  setTimeout(() => {\n",
    "    console.log('timeout 2');\n",
    "  }, 0);\n",
    "\n",
    "  // Create a rejected promise\n",
    "  Promise.reject()\n",
    "    .then(() => {\n",
    "      console.log('then 1');\n",
    "    })\n",
    "    .then(() => {\n",
    "      console.log('then 2');\n",
    "      return 100;\n",
    "    })\n",
    "    .then(() => {\n",
    "      console.log('then 3');\n",
    "    })\n",
    "    .catch((err) => {\n",
    "      console.log('catch 3');\n",
    "    })\n",
    "    .then(() => {\n",
    "      console.log('then 4');\n",
    "    })\n",
    "    .finally(() => {\n",
    "      console.log('finally');\n",
    "    });\n",
    "\n",
    "  console.log('ending');\n",
    "}"
   ]
  }
 ],
 "metadata": {
  "kernelspec": {
   "display_name": "JavaScript",
   "language": "javascript",
   "name": "jslab"
  },
  "language_info": {
   "file_extension": ".js",
   "mimetype": "text/javascript",
   "name": "javascript",
   "version": ""
  },
  "orig_nbformat": 4
 },
 "nbformat": 4,
 "nbformat_minor": 2
}
